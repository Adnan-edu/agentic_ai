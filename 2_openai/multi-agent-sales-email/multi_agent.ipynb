{
 "cells": [
  {
   "cell_type": "markdown",
   "metadata": {},
   "source": [
    "<!--- Fancy Logo --->\n",
    "<p align=\"center\">\n",
    "  <img src=\"https://em-content.zobj.net/source/microsoft-teams/363/robot_1f916.png\" alt=\"Agentic AI Logo\" width=\"100\"/>\n",
    "</p>\n",
    "\n",
    "# 🤖 Agentic AI: Multi-Agent Sales Email Automation with Guardrails\n",
    "\n",
    " \n",
    "In this notebook, you'll build a robust, multi-agent AI workflow for automating sales email generation and delivery. You'll explore how to orchestrate multiple LLM-powered agents, enforce input guardrails to prevent mistakes (like leaking personal names), and use structured outputs for reliable downstream processing.  \n",
    "By the end, you'll have a system that can generate, select, and send professional sales emails—safely and efficiently—using the latest agentic AI techniques.\n"
   ]
  },
  {
   "cell_type": "code",
   "execution_count": 1,
   "metadata": {},
   "outputs": [],
   "source": [
    "from dotenv import load_dotenv\n",
    "from openai import AsyncOpenAI\n",
    "from agents import Agent, Runner, trace, function_tool, OpenAIChatCompletionsModel, input_guardrail, GuardrailFunctionOutput\n",
    "from typing import Dict\n",
    "import sendgrid\n",
    "import os\n",
    "from sendgrid.helpers.mail import Mail, Email, To, Content\n",
    "from pydantic import BaseModel"
   ]
  },
  {
   "cell_type": "code",
   "execution_count": 2,
   "metadata": {},
   "outputs": [
    {
     "data": {
      "text/plain": [
       "True"
      ]
     },
     "execution_count": 2,
     "metadata": {},
     "output_type": "execute_result"
    }
   ],
   "source": [
    "load_dotenv(override=True)"
   ]
  },
  {
   "cell_type": "code",
   "execution_count": 3,
   "metadata": {},
   "outputs": [
    {
     "name": "stdout",
     "output_type": "stream",
     "text": [
      "OpenAI API Key exists and begins sk-proj-\n",
      "Google API Key exists and begins AI\n",
      "DeepSeek API Key exists and begins sk-\n",
      "Groq API Key exists and begins gsk_\n"
     ]
    }
   ],
   "source": [
    "openai_api_key = os.getenv('OPENAI_API_KEY')\n",
    "google_api_key = os.getenv('GOOGLE_API_KEY')\n",
    "deepseek_api_key = os.getenv('DEEPSEEK_API_KEY')\n",
    "groq_api_key = os.getenv('GROQ_API_KEY')\n",
    "\n",
    "if openai_api_key:\n",
    "    print(f\"OpenAI API Key exists and begins {openai_api_key[:8]}\")\n",
    "else:\n",
    "    print(\"OpenAI API Key not set\")\n",
    "\n",
    "if google_api_key:\n",
    "    print(f\"Google API Key exists and begins {google_api_key[:2]}\")\n",
    "else:\n",
    "    print(\"Google API Key not set (and this is optional)\")\n",
    "\n",
    "if deepseek_api_key:\n",
    "    print(f\"DeepSeek API Key exists and begins {deepseek_api_key[:3]}\")\n",
    "else:\n",
    "    print(\"DeepSeek API Key not set (and this is optional)\")\n",
    "\n",
    "if groq_api_key:\n",
    "    print(f\"Groq API Key exists and begins {groq_api_key[:4]}\")\n",
    "else:\n",
    "    print(\"Groq API Key not set (and this is optional)\")"
   ]
  },
  {
   "cell_type": "code",
   "execution_count": 4,
   "metadata": {},
   "outputs": [],
   "source": [
    "instructions1 = \"You are a sales agent working for ComplAI, \\\n",
    "a company that provides a SaaS tool for ensuring SOC2 compliance and preparing for audits, powered by AI. \\\n",
    "You write professional, serious cold emails.\"\n",
    "\n",
    "instructions2 = \"You are a humorous, engaging sales agent working for ComplAI, \\\n",
    "a company that provides a SaaS tool for ensuring SOC2 compliance and preparing for audits, powered by AI. \\\n",
    "You write witty, engaging cold emails that are likely to get a response.\"\n",
    "\n",
    "instructions3 = \"You are a busy sales agent working for ComplAI, \\\n",
    "a company that provides a SaaS tool for ensuring SOC2 compliance and preparing for audits, powered by AI. \\\n",
    "You write concise, to the point cold emails.\""
   ]
  },
  {
   "cell_type": "markdown",
   "metadata": {},
   "source": [
    "### It's easy to use any models with OpenAI compatible endpoints"
   ]
  },
  {
   "cell_type": "code",
   "execution_count": 5,
   "metadata": {},
   "outputs": [],
   "source": [
    "GEMINI_BASE_URL = \"https://generativelanguage.googleapis.com/v1beta/openai/\"\n",
    "DEEPSEEK_BASE_URL = \"https://api.deepseek.com/v1\"\n",
    "GROQ_BASE_URL = \"https://api.groq.com/openai/v1\""
   ]
  },
  {
   "cell_type": "code",
   "execution_count": 6,
   "metadata": {},
   "outputs": [],
   "source": [
    "\n",
    "deepseek_client = AsyncOpenAI(base_url=DEEPSEEK_BASE_URL, api_key=deepseek_api_key)\n",
    "gemini_client = AsyncOpenAI(base_url=GEMINI_BASE_URL, api_key=google_api_key)\n",
    "groq_client = AsyncOpenAI(base_url=GROQ_BASE_URL, api_key=groq_api_key)\n",
    "\n",
    "deepseek_model = OpenAIChatCompletionsModel(model=\"deepseek-chat\", openai_client=deepseek_client)\n",
    "gemini_model = OpenAIChatCompletionsModel(model=\"gemini-2.0-flash\", openai_client=gemini_client)\n",
    "llama3_3_model = OpenAIChatCompletionsModel(model=\"llama-3.3-70b-versatile\", openai_client=groq_client)"
   ]
  },
  {
   "cell_type": "code",
   "execution_count": 7,
   "metadata": {},
   "outputs": [],
   "source": [
    "sales_agent1 = Agent(name=\"DeepSeek Sales Agent\", instructions=instructions1, model=deepseek_model)\n",
    "sales_agent2 =  Agent(name=\"Gemini Sales Agent\", instructions=instructions2, model=gemini_model)\n",
    "sales_agent3  = Agent(name=\"Llama3.3 Sales Agent\",instructions=instructions3,model=llama3_3_model)"
   ]
  },
  {
   "cell_type": "code",
   "execution_count": null,
   "metadata": {},
   "outputs": [],
   "source": [
    "# Define a description string that will be used as the tool description for all three sales agent tools.\n",
    "description = \"Write a cold sales email\"\n",
    "\n",
    "# Convert the first sales agent (sales_agent1) into a tool using its as_tool method.\n",
    "# The tool is named \"sales_agent1\" and uses the description defined above.\n",
    "# This allows the agent to be invoked as a callable tool in an agentic workflow.\n",
    "tool1 = sales_agent1.as_tool(tool_name=\"sales_agent1\", tool_description=description)\n",
    "\n",
    "# Similarly, convert the second sales agent (sales_agent2) into a tool.\n",
    "# The tool is named \"sales_agent2\" and shares the same description.\n",
    "tool2 = sales_agent2.as_tool(tool_name=\"sales_agent2\", tool_description=description)\n",
    "\n",
    "# Likewise, convert the third sales agent (sales_agent3) into a tool.\n",
    "# The tool is named \"sales_agent3\" and also uses the same description.\n",
    "tool3 = sales_agent3.as_tool(tool_name=\"sales_agent3\", tool_description=description)"
   ]
  },
  {
   "cell_type": "code",
   "execution_count": null,
   "metadata": {},
   "outputs": [],
   "source": [
    "# The @function_tool decorator is used to turn a regular Python function into a tool that can be called by an agent.\n",
    "# When you decorate a function with @function_tool, it registers the function as a tool with the agentic framework,\n",
    "# allowing agents to invoke it as part of their workflow (e.g., to send an email, call an API, etc.).\n",
    "@function_tool\n",
    "def send_html_email(subject: str, html_body: str) -> Dict[str, str]:\n",
    "    \"\"\" Send out an email with the given subject and HTML body to all sales prospects \"\"\"\n",
    "    sg = sendgrid.SendGridAPIClient(api_key=os.environ.get('SENDGRID_API_KEY'))\n",
    "    from_email = Email(\"adnanmdashikml@gmail.com\")  # Change to your verified sender\n",
    "    to_email = To(\"adnanmdashikml@gmail.com\")  # Change to your recipient\n",
    "    content = Content(\"text/html\", html_body)\n",
    "    mail = Mail(from_email, to_email, subject, content).get()\n",
    "    response = sg.client.mail.send.post(request_body=mail)\n",
    "    return {\"status\": \"success\"}"
   ]
  },
  {
   "cell_type": "code",
   "execution_count": 10,
   "metadata": {},
   "outputs": [],
   "source": [
    "subject_instructions = \"You can write a subject for a cold sales email. \\\n",
    "You are given a message and you need to write a subject for an email that is likely to get a response.\"\n",
    "\n",
    "html_instructions = \"You can convert a text email body to an HTML email body. \\\n",
    "You are given a text email body which might have some markdown \\\n",
    "and you need to convert it to an HTML email body with simple, clear, compelling layout and design.\"\n",
    "\n",
    "subject_writer = Agent(name=\"Email subject writer\", instructions=subject_instructions, model=\"gpt-4o-mini\")\n",
    "subject_tool = subject_writer.as_tool(tool_name=\"subject_writer\", tool_description=\"Write a subject for a cold sales email\")\n",
    "\n",
    "html_converter = Agent(name=\"HTML email body converter\", instructions=html_instructions, model=\"gpt-4o-mini\")\n",
    "html_tool = html_converter.as_tool(tool_name=\"html_converter\",tool_description=\"Convert a text email body to an HTML email body\")"
   ]
  },
  {
   "cell_type": "code",
   "execution_count": 11,
   "metadata": {},
   "outputs": [],
   "source": [
    "email_tools = [subject_tool, html_tool, send_html_email]"
   ]
  },
  {
   "cell_type": "code",
   "execution_count": null,
   "metadata": {},
   "outputs": [],
   "source": [
    "instructions =\"You are an email formatter and sender. You receive the body of an email to be sent. \\\n",
    "You first use the subject_writer tool to write a subject for the email, then use the html_converter tool to convert the body to HTML. \\\n",
    "Finally, you use the send_html_email tool to send the email with the subject and HTML body.\"\n",
    "\n",
    "\n",
    "emailer_agent = Agent(\n",
    "    name=\"Email Manager\",\n",
    "    instructions=instructions,\n",
    "    tools=email_tools,\n",
    "    model=\"gpt-4o-mini\",\n",
    "    # handoff_description is an optional string argument you can provide when defining an Agent that is intended to be a \"handoff\" target for another agent.\n",
    "    # It describes, in natural language, what this agent does when another agent \"hands off\" a task to it.\n",
    "    # This description helps the orchestrator (and the LLM) understand when and how to delegate a task to this agent.\n",
    "    # For example, here: handoff_description=\"Convert an email to HTML and send it\"\n",
    "    # means: \"If you have an email that needs to be converted to HTML and sent, hand it off to this agent.\"\n",
    "    handoff_description=\"Convert an email to HTML and send it\")"
   ]
  },
  {
   "cell_type": "code",
   "execution_count": 13,
   "metadata": {},
   "outputs": [],
   "source": [
    "tools = [tool1, tool2, tool3]\n",
    "handoffs = [emailer_agent]"
   ]
  },
  {
   "cell_type": "code",
   "execution_count": null,
   "metadata": {},
   "outputs": [],
   "source": [
    "sales_manager_instructions = \"You are a sales manager working for ComplAI. You use the tools given to you to generate cold sales emails. \\\n",
    "You never generate sales emails yourself; you always use the tools. \\\n",
    "You try all 3 sales agent tools at least once before choosing the best one. \\\n",
    "You can use the tools multiple times if you're not satisfied with the results from the first try. \\\n",
    "You select the single best email using your own judgement of which email will be most effective. \\\n",
    "After picking the email, you handoff to the Email Manager agent to format and send the email.\"\n",
    "\n",
    "\n",
    "sales_manager = Agent(\n",
    "    name=\"Sales Manager\",\n",
    "    instructions=sales_manager_instructions,\n",
    "    tools=tools,\n",
    "    # The 'handoffs' argument specifies which agents this agent can delegate tasks to.\n",
    "    # Here, 'handoffs' is set to a list containing the 'emailer_agent', so the Sales Manager\n",
    "    # can hand off the chosen email to the Email Manager agent for formatting and sending.\n",
    "    handoffs=handoffs,\n",
    "    model=\"gpt-4o-mini\")\n",
    "\n",
    "message = \"Send out a cold sales email addressed to Dear CEO from Alice\"\n",
    "\n",
    "with trace(\"Automated SDR\"):\n",
    "    result = await Runner.run(sales_manager, message)"
   ]
  },
  {
   "cell_type": "markdown",
   "metadata": {},
   "source": [
    "## Check out the trace:\n",
    "\n",
    "https://platform.openai.com/traces"
   ]
  },
  {
   "cell_type": "code",
   "execution_count": 16,
   "metadata": {},
   "outputs": [],
   "source": [
    "class NameCheckOutput(BaseModel):\n",
    "    is_name_in_message: bool\n",
    "    name: str\n",
    "\n",
    "guardrail_agent = Agent( \n",
    "    name=\"Name check\",\n",
    "    instructions=\"Check if the user is including someone's personal name in what they want you to do.\",\n",
    "    output_type=NameCheckOutput,\n",
    "    model=\"gpt-4o-mini\"\n",
    ")"
   ]
  },
  {
   "cell_type": "markdown",
   "metadata": {},
   "source": [
    "The `@input_guardrail` decorator in the **OpenAI Agent SDK** plays a critical role in ensuring that the agent's **inputs are safe, clean, or policy-compliant before execution**. Here's a breakdown of **why we need it** and **how it works**:\n",
    "\n",
    "---\n",
    "\n",
    "### ✅ Why We Need `@input_guardrail`\n",
    "\n",
    "In the context of agentic workflows, agents interact with user inputs or data that may be:\n",
    "\n",
    "* Unsafe (e.g., containing personal info like names or emails)\n",
    "* Against policy (e.g., prompts triggering offensive language)\n",
    "* Incorrectly formatted (e.g., malformed JSON, missing keys)\n",
    "* Unwanted for a specific agent behavior (e.g., commands instead of questions)\n",
    "\n",
    "The guardrail acts like a **pre-check filter or gatekeeper**, preventing an agent from executing if the input doesn't meet certain requirements or safety standards.\n",
    "\n",
    "---\n",
    "\n",
    "### ⚙️ How It Works\n",
    "\n",
    "Let's step through what happens in your example:\n",
    "\n",
    "```python\n",
    "@input_guardrail  # <--- Decorator registers the function as an input validation step\n",
    "async def guardrail_against_name(ctx, agent, message):\n",
    "```\n",
    "\n",
    "* **Registration**: The `@input_guardrail` decorator tells the Agent SDK that this function is an *input guardrail*. It will be **called before** the actual agent is invoked.\n",
    "\n",
    "```python\n",
    "    result = await Runner.run(guardrail_agent, message, context=ctx.context)\n",
    "```\n",
    "\n",
    "* **Execution**: It runs another *guardrail agent* (`guardrail_agent`) to analyze the input `message`. This could be a specialized model that looks for things like:\n",
    "\n",
    "  * Named Entities (e.g., personal names)\n",
    "  * Sensitive topics\n",
    "  * Profanity or abuse\n",
    "\n",
    "```python\n",
    "    is_name_in_message = result.final_output.is_name_in_message\n",
    "```\n",
    "\n",
    "* **Interpretation**: From the result, it checks if a personal name was found in the message.\n",
    "\n",
    "```python\n",
    "    return GuardrailFunctionOutput(\n",
    "        output_info={\"found_name\": result.final_output},\n",
    "        tripwire_triggered=is_name_in_message\n",
    "    )\n",
    "```\n",
    "\n",
    "* **Tripwire**: If the name was found, `tripwire_triggered=True`. This tells the Agent SDK:\n",
    "\n",
    "  > “⚠️ Don't let the main agent proceed — input violates the guardrail.”\n",
    "\n",
    "---\n",
    "\n",
    "### 🧠 Conceptually\n",
    "\n",
    "Think of it like **middleware or a validator** in a web API:\n",
    "\n",
    "| Guardrail Step            | Equivalent                                 |\n",
    "| ------------------------- | ------------------------------------------ |\n",
    "| `@input_guardrail`        | Decorator that defines a validator         |\n",
    "| `Runner.run(...)`         | Executes a sub-agent or classifier         |\n",
    "| `tripwire_triggered=True` | Return 403 / prevent agent from continuing |\n",
    "| `output_info`             | Metadata or logs about what happened       |\n",
    "\n",
    "---\n",
    "\n",
    "### 🧪 Real Use Cases\n",
    "\n",
    "You might use input guardrails for:\n",
    "\n",
    "* Blocking questions with PII (e.g., “What’s John's address?”)\n",
    "* Ensuring only specific formats (e.g., dates, JSON, SQL queries)\n",
    "* Preventing re-entrant or recursive calls\n",
    "* Custom moderation checks"
   ]
  },
  {
   "cell_type": "code",
   "execution_count": 18,
   "metadata": {},
   "outputs": [],
   "source": [
    "@input_guardrail  # Decorator that marks this function as an input guardrail for agents\n",
    "async def guardrail_against_name(ctx, agent, message):\n",
    "    # Run the guardrail agent to check if a personal name is in the message\n",
    "    # ctx.context provides additional context, agent is the target agent, message is user input\n",
    "    result = await Runner.run(guardrail_agent, message, context=ctx.context)\n",
    "    \n",
    "    # Extract the boolean flag indicating if a name was found in the message\n",
    "    # This comes from the NameCheckOutput model defined earlier\n",
    "    is_name_in_message = result.final_output.is_name_in_message\n",
    "    \n",
    "    # Return a guardrail output with:\n",
    "    # - output_info: stores the full result including the detected name\n",
    "    # - tripwire_triggered: boolean that determines if the guardrail should block execution\n",
    "    return GuardrailFunctionOutput(output_info={\"found_name\": result.final_output},tripwire_triggered=is_name_in_message)"
   ]
  },
  {
   "cell_type": "code",
   "execution_count": 19,
   "metadata": {},
   "outputs": [
    {
     "ename": "InputGuardrailTripwireTriggered",
     "evalue": "Guardrail InputGuardrail triggered tripwire",
     "output_type": "error",
     "traceback": [
      "\u001b[31m---------------------------------------------------------------------------\u001b[39m",
      "\u001b[31mInputGuardrailTripwireTriggered\u001b[39m           Traceback (most recent call last)",
      "\u001b[36mCell\u001b[39m\u001b[36m \u001b[39m\u001b[32mIn[19]\u001b[39m\u001b[32m, line 13\u001b[39m\n\u001b[32m     10\u001b[39m message = \u001b[33m\"\u001b[39m\u001b[33mSend out a cold sales email addressed to Dear CEO from Alice\u001b[39m\u001b[33m\"\u001b[39m\n\u001b[32m     12\u001b[39m \u001b[38;5;28;01mwith\u001b[39;00m trace(\u001b[33m\"\u001b[39m\u001b[33mProtected Automated SDR\u001b[39m\u001b[33m\"\u001b[39m):\n\u001b[32m---> \u001b[39m\u001b[32m13\u001b[39m     result = \u001b[38;5;28;01mawait\u001b[39;00m Runner.run(careful_sales_manager, message)\n",
      "\u001b[36mFile \u001b[39m\u001b[32m~/Documents/adnanedu/python/udemy/agentic_ai/agents/.venv/lib/python3.12/site-packages/agents/run.py:219\u001b[39m, in \u001b[36mRunner.run\u001b[39m\u001b[34m(cls, starting_agent, input, context, max_turns, hooks, run_config, previous_response_id)\u001b[39m\n\u001b[32m    214\u001b[39m logger.debug(\n\u001b[32m    215\u001b[39m     \u001b[33mf\u001b[39m\u001b[33m\"\u001b[39m\u001b[33mRunning agent \u001b[39m\u001b[38;5;132;01m{\u001b[39;00mcurrent_agent.name\u001b[38;5;132;01m}\u001b[39;00m\u001b[33m (turn \u001b[39m\u001b[38;5;132;01m{\u001b[39;00mcurrent_turn\u001b[38;5;132;01m}\u001b[39;00m\u001b[33m)\u001b[39m\u001b[33m\"\u001b[39m,\n\u001b[32m    216\u001b[39m )\n\u001b[32m    218\u001b[39m \u001b[38;5;28;01mif\u001b[39;00m current_turn == \u001b[32m1\u001b[39m:\n\u001b[32m--> \u001b[39m\u001b[32m219\u001b[39m     input_guardrail_results, turn_result = \u001b[38;5;28;01mawait\u001b[39;00m asyncio.gather(\n\u001b[32m    220\u001b[39m         \u001b[38;5;28mcls\u001b[39m._run_input_guardrails(\n\u001b[32m    221\u001b[39m             starting_agent,\n\u001b[32m    222\u001b[39m             starting_agent.input_guardrails\n\u001b[32m    223\u001b[39m             + (run_config.input_guardrails \u001b[38;5;129;01mor\u001b[39;00m []),\n\u001b[32m    224\u001b[39m             copy.deepcopy(\u001b[38;5;28minput\u001b[39m),\n\u001b[32m    225\u001b[39m             context_wrapper,\n\u001b[32m    226\u001b[39m         ),\n\u001b[32m    227\u001b[39m         \u001b[38;5;28mcls\u001b[39m._run_single_turn(\n\u001b[32m    228\u001b[39m             agent=current_agent,\n\u001b[32m    229\u001b[39m             all_tools=all_tools,\n\u001b[32m    230\u001b[39m             original_input=original_input,\n\u001b[32m    231\u001b[39m             generated_items=generated_items,\n\u001b[32m    232\u001b[39m             hooks=hooks,\n\u001b[32m    233\u001b[39m             context_wrapper=context_wrapper,\n\u001b[32m    234\u001b[39m             run_config=run_config,\n\u001b[32m    235\u001b[39m             should_run_agent_start_hooks=should_run_agent_start_hooks,\n\u001b[32m    236\u001b[39m             tool_use_tracker=tool_use_tracker,\n\u001b[32m    237\u001b[39m             previous_response_id=previous_response_id,\n\u001b[32m    238\u001b[39m         ),\n\u001b[32m    239\u001b[39m     )\n\u001b[32m    240\u001b[39m \u001b[38;5;28;01melse\u001b[39;00m:\n\u001b[32m    241\u001b[39m     turn_result = \u001b[38;5;28;01mawait\u001b[39;00m \u001b[38;5;28mcls\u001b[39m._run_single_turn(\n\u001b[32m    242\u001b[39m         agent=current_agent,\n\u001b[32m    243\u001b[39m         all_tools=all_tools,\n\u001b[32m   (...)\u001b[39m\u001b[32m    251\u001b[39m         previous_response_id=previous_response_id,\n\u001b[32m    252\u001b[39m     )\n",
      "\u001b[36mFile \u001b[39m\u001b[32m~/Documents/adnanedu/python/udemy/agentic_ai/agents/.venv/lib/python3.12/site-packages/agents/run.py:884\u001b[39m, in \u001b[36mRunner._run_input_guardrails\u001b[39m\u001b[34m(cls, agent, guardrails, input, context)\u001b[39m\n\u001b[32m    877\u001b[39m         t.cancel()\n\u001b[32m    878\u001b[39m     _error_tracing.attach_error_to_current_span(\n\u001b[32m    879\u001b[39m         SpanError(\n\u001b[32m    880\u001b[39m             message=\u001b[33m\"\u001b[39m\u001b[33mGuardrail tripwire triggered\u001b[39m\u001b[33m\"\u001b[39m,\n\u001b[32m    881\u001b[39m             data={\u001b[33m\"\u001b[39m\u001b[33mguardrail\u001b[39m\u001b[33m\"\u001b[39m: result.guardrail.get_name()},\n\u001b[32m    882\u001b[39m         )\n\u001b[32m    883\u001b[39m     )\n\u001b[32m--> \u001b[39m\u001b[32m884\u001b[39m     \u001b[38;5;28;01mraise\u001b[39;00m InputGuardrailTripwireTriggered(result)\n\u001b[32m    885\u001b[39m \u001b[38;5;28;01melse\u001b[39;00m:\n\u001b[32m    886\u001b[39m     guardrail_results.append(result)\n",
      "\u001b[31mInputGuardrailTripwireTriggered\u001b[39m: Guardrail InputGuardrail triggered tripwire"
     ]
    }
   ],
   "source": [
    "careful_sales_manager = Agent(\n",
    "    name=\"Sales Manager\",\n",
    "    instructions=sales_manager_instructions,\n",
    "    tools=tools,\n",
    "    handoffs=[emailer_agent],\n",
    "    model=\"gpt-4o-mini\",\n",
    "    input_guardrails=[guardrail_against_name]\n",
    "    )\n",
    "\n",
    "message = \"Send out a cold sales email addressed to Dear CEO from Alice\"\n",
    "\n",
    "with trace(\"Protected Automated SDR\"):\n",
    "    result = await Runner.run(careful_sales_manager, message)"
   ]
  },
  {
   "cell_type": "markdown",
   "metadata": {},
   "source": [
    "## Check out the trace:\n",
    "\n",
    "https://platform.openai.com/traces"
   ]
  },
  {
   "cell_type": "code",
   "execution_count": 20,
   "metadata": {},
   "outputs": [],
   "source": [
    "\n",
    "message = \"Send out a cold sales email addressed to Dear CEO from Head of Business Development\"\n",
    "\n",
    "with trace(\"Protected Automated SDR\"):\n",
    "    result = await Runner.run(careful_sales_manager, message)"
   ]
  }
 ],
 "metadata": {
  "kernelspec": {
   "display_name": ".venv",
   "language": "python",
   "name": "python3"
  },
  "language_info": {
   "codemirror_mode": {
    "name": "ipython",
    "version": 3
   },
   "file_extension": ".py",
   "mimetype": "text/x-python",
   "name": "python",
   "nbconvert_exporter": "python",
   "pygments_lexer": "ipython3",
   "version": "3.12.4"
  }
 },
 "nbformat": 4,
 "nbformat_minor": 2
}
