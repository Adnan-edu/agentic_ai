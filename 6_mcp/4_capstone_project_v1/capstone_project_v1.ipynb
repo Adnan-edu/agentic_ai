{
 "cells": [
  {
   "cell_type": "markdown",
   "metadata": {},
   "source": [
    "<table style=\"margin: 0; text-align: left; width:100%\">\n",
    "    <tr>\n",
    "        <td style=\"width: 220px; height: 150px; vertical-align: middle;\">\n",
    "            <img src=\"assets/aaa.png\" width=\"220\" height=\"150\" style=\"display: block;\" />\n",
    "        </td>\n",
    "        <td>\n",
    "            <h2 style=\"color:#ff7800;\">Autonomous Traders</h2>\n",
    "            <span style=\"color:#ff7800;\">An equity trading simulation to illustrate autonomous agents powered by tools and resources from MCP servers.\n",
    "            </span>\n",
    "        </td>\n",
    "    </tr>\n",
    "</table>"
   ]
  },
  {
   "cell_type": "markdown",
   "metadata": {},
   "source": [
    "### Week 6 Day 4\n",
    "\n",
    "And now - introducing the Capstone project:\n",
    "\n",
    "\n",
    "# Autonomous Traders\n",
    "\n",
    "An equity trading simulation, with 4 Traders and a Researcher, powered by a slew of MCP servers with tools & resources:\n",
    "\n",
    "1. Our home-made Accounts MCP server (written by our engineering team!)\n",
    "2. Fetch (get webpage via a local headless browser)\n",
    "3. Memory\n",
    "4. Brave Search\n",
    "5. Financial data\n",
    "\n",
    "And a resource to read information about the trader's account, and their investment strategy.\n",
    "\n",
    "The goal of today's lab is to make a new python module, `traders.py` that will manage a single trader on our trading floor.\n",
    "\n",
    "We will experiment and explore in the lab, and then migrate to a python module when we're ready.\n"
   ]
  },
  {
   "cell_type": "markdown",
   "metadata": {},
   "source": [
    "<table style=\"margin: 0; text-align: left; width:100%\">\n",
    "    <tr>\n",
    "        <td style=\"width: 150px; height: 150px; vertical-align: middle;\">\n",
    "            <img src=\"assets/stop.png\" width=\"150\" height=\"150\" style=\"display: block;\" />\n",
    "        </td>\n",
    "        <td>\n",
    "            <h2 style=\"color:#ff7800;\">One more time --</h2>\n",
    "            <span style=\"color:#ff7800;\">Please do not use this for actual trading decisions!!\n",
    "            </span>\n",
    "        </td>\n",
    "    </tr>\n",
    "</table>"
   ]
  },
  {
   "cell_type": "code",
   "execution_count": 1,
   "metadata": {},
   "outputs": [
    {
     "data": {
      "text/plain": [
       "True"
      ]
     },
     "execution_count": 1,
     "metadata": {},
     "output_type": "execute_result"
    }
   ],
   "source": [
    "import os\n",
    "from dotenv import load_dotenv\n",
    "from agents import Agent, Runner, trace, Tool\n",
    "from agents.mcp import MCPServerStdio\n",
    "from IPython.display import Markdown, display\n",
    "from datetime import datetime\n",
    "from accounts_client import read_accounts_resource, read_strategy_resource\n",
    "from accounts import Account\n",
    "\n",
    "load_dotenv(override=True)"
   ]
  },
  {
   "cell_type": "markdown",
   "metadata": {},
   "source": [
    "### Let's start by gathering the MCP params for our trader"
   ]
  },
  {
   "cell_type": "code",
   "execution_count": 2,
   "metadata": {},
   "outputs": [
    {
     "name": "stdout",
     "output_type": "stream",
     "text": [
      "False\n",
      "False\n"
     ]
    }
   ],
   "source": [
    "polygon_api_key = os.getenv(\"POLYGON_API_KEY\")\n",
    "polygon_plan = os.getenv(\"POLYGON_PLAN\")\n",
    "\n",
    "is_paid_polygon = polygon_plan == \"paid\"\n",
    "is_realtime_polygon = polygon_plan == \"realtime\"\n",
    "\n",
    "print(is_paid_polygon)\n",
    "print(is_realtime_polygon)"
   ]
  },
  {
   "cell_type": "markdown",
   "metadata": {},
   "source": [
    "### 🏦 Checking Your Polygon API Plan\n",
    "\n",
    "The following code cell determines your Polygon API plan and prints whether you have a **paid** 💳 or **realtime** ⏱️ subscription.\n",
    "\n",
    "---\n",
    "\n",
    "### ⚙️ Setting Up MCP Servers for the Trader\n",
    "\n",
    "Below is the configuration for the MCP servers that your trading agent will use. These servers handle account management, push notifications, and market data integration. 🚀📈"
   ]
  },
  {
   "cell_type": "code",
   "execution_count": null,
   "metadata": {},
   "outputs": [],
   "source": [
    "if is_paid_polygon or is_realtime_polygon:\n",
    "    market_mcp = {\"command\": \"uvx\",\"args\": [\"--from\", \"git+https://github.com/polygon-io/mcp_polygon@master\", \"mcp_polygon\"], \"env\": {\"POLYGON_API_KEY\": polygon_api_key}}\n",
    "else:\n",
    "    market_mcp = ({\"command\": \"uv\", \"args\": [\"run\", \"market_server.py\"]}) # Caching the data so we don't exceed our rate limits\n",
    "\n",
    "trader_mcp_server_params = [\n",
    "    {\"command\": \"uv\", \"args\": [\"run\", \"accounts_server.py\"]},\n",
    "    {\"command\": \"uv\", \"args\": [\"run\", \"push_server.py\"]},\n",
    "    market_mcp\n",
    "]"
   ]
  },
  {
   "cell_type": "markdown",
   "metadata": {},
   "source": [
    "### 🕵️‍♂️ Meet the Researcher Agent!\n",
    "\n",
    "Our next agent is the **Researcher** 🧑‍💻, designed to perform in-depth market research and uncover valuable trading insights. \n",
    "\n",
    "---\n",
    "\n",
    "#### 🛠️ Tools for the Researcher\n",
    "\n",
    "- **Brave Search API** 🔎: Empowers the agent to search the web for the latest financial news and trends.\n",
    "- **Fetch Capability** 🌐: Allows the agent to retrieve and analyze web pages for up-to-date information.\n",
    "\n",
    "With these tools, the Researcher agent can:\n",
    "- Explore financial news sources 📰\n",
    "- Identify emerging trading opportunities 📈\n",
    "- Provide comprehensive market research reports 📊\n",
    "\n",
    "Let's set up the Researcher agent with these powerful capabilities! 🚀"
   ]
  },
  {
   "cell_type": "code",
   "execution_count": 4,
   "metadata": {},
   "outputs": [],
   "source": [
    "brave_env = {\"BRAVE_API_KEY\": os.getenv(\"BRAVE_API_KEY\")}\n",
    "\n",
    "# Define the parameters for launching the MCP servers that the researcher agent will use.\n",
    "# This is a list of dictionaries, where each dictionary specifies how to start a particular MCP server process.\n",
    "\n",
    "researcher_mcp_server_params = [\n",
    "    # The first MCP server is started using the \"uvx\" command with the argument \"mcp-server-fetch\".\n",
    "    # \"uvx\" is likely a command runner or environment, and \"mcp-server-fetch\" is the server to be launched.\n",
    "    {\"command\": \"uvx\", \"args\": [\"mcp-server-fetch\"]},\n",
    "\n",
    "    # The second MCP server is started using the \"npx\" command, which is a Node.js package runner.\n",
    "    # The \"-y\" flag automatically confirms any prompts, and \"@modelcontextprotocol/server-brave-search\" is the package to run.\n",
    "    # The \"env\" key sets environment variables for this process, specifically passing in the Brave API key via brave_env.\n",
    "    {\"command\": \"npx\", \"args\": [\"-y\", \"@modelcontextprotocol/server-brave-search\"], \"env\": brave_env}\n",
    "]"
   ]
  },
  {
   "cell_type": "markdown",
   "metadata": {},
   "source": [
    "### Now create the MCPServerStdio for each\n",
    "\n",
    "🛠️ **Creating MCPServerStdio Instances for the Researcher and Trader Agents** 🛠️\n",
    "\n",
    "In the next code cell, we are:\n",
    "\n",
    "1. **Launching MCP Servers for the Researcher Agent** 🧑‍💻🔎  \n",
    "- We use the `researcher_mcp_server_params` list to start each MCP server process needed by the Researcher agent.\n",
    "- Each server is wrapped in an `MCPServerStdio` instance, which manages communication via standard input/output.\n",
    "- The `client_session_timeout_seconds=30` parameter ensures that each session will timeout after 30 seconds of inactivity.\n",
    "\n",
    "2. **Launching MCP Servers for the Trader Agent** 💹🤖  \n",
    "- Similarly, we use `trader_mcp_server_params` to start the MCP servers for the Trader agent.\n",
    "- Each is also wrapped in an `MCPServerStdio` instance with the same session timeout.\n",
    "\n",
    "3. **Combining All MCP Servers** 🔗  \n",
    "- We concatenate the lists of trader and researcher MCP servers into a single `mcp_servers` list.\n",
    "- This unified list can be used to provide both agents with access to all their required tools and capabilities.\n",
    "\n",
    "---\n",
    "\n",
    "🚦 **Why is this important?**  \n",
    "By structuring the MCP servers this way, each agent can independently access the tools it needs, while also making it easy to manage and scale the system as new tools or agents are added!\n",
    "\n"
   ]
  },
  {
   "cell_type": "code",
   "execution_count": 5,
   "metadata": {},
   "outputs": [],
   "source": [
    "researcher_mcp_servers = [MCPServerStdio(params, client_session_timeout_seconds=30) for params in researcher_mcp_server_params]\n",
    "trader_mcp_servers = [MCPServerStdio(params, client_session_timeout_seconds=30) for params in trader_mcp_server_params]\n",
    "mcp_servers = trader_mcp_servers + researcher_mcp_servers"
   ]
  },
  {
   "cell_type": "markdown",
   "metadata": {},
   "source": [
    "### Now let's make a Researcher Agent to do market research\n",
    "\n",
    "And turn it into a tool - remember how this works for OpenAI Agents SDK, and the difference with handoffs?"
   ]
  },
  {
   "cell_type": "markdown",
   "metadata": {},
   "source": [
    "## 🧑‍💻🔍 Researcher Agent: Your AI-Powered Market Analyst!\n",
    "\n",
    "In the next cell, we define an **asynchronous function** to create a \"Researcher\" agent, powered by GPT-4, that can search the web for financial news, uncover trading opportunities, and summarize its findings for you.  \n",
    "\n",
    "### 🚀 What does this cell do?\n",
    "- **Creates a specialized agent**: The function `get_researcher` sets up an agent with clear instructions to act as a financial researcher.\n",
    "- **Provides context**: It includes the current date and time, so the agent's research is always up-to-date.\n",
    "- **Connects to MCP servers**: The agent is given access to the right set of tools and data sources via the `mcp_servers` parameter.\n",
    "\n",
    "### 🌟 Why is this helpful?\n",
    "- **Automates market research**: Instead of manually searching for news or opportunities, you can delegate this task to an AI agent.\n",
    "- **Ensures comprehensive results**: The agent is instructed to perform multiple searches and synthesize a broad overview, not just a single headline.\n",
    "- **Flexible usage**: Whether you have a specific question or just want the latest opportunities, the agent adapts to your needs.\n",
    "- **Seamless integration**: By wrapping the agent as a tool, it can be easily used by other agents (like a Trader) or in automated workflows.\n",
    "\n",
    "### ✨ TL;DR\n",
    "This cell sets up your own AI-powered financial researcher, making it easy to get timely, relevant, and actionable market insights—no manual Googling required! 📈🤖"
   ]
  },
  {
   "cell_type": "code",
   "execution_count": 6,
   "metadata": {},
   "outputs": [],
   "source": [
    "async def get_researcher(mcp_servers) -> Agent:\n",
    "    instructions = f\"\"\"You are a financial researcher. You are able to search the web for interesting financial news,\n",
    "look for possible trading opportunities, and help with research.\n",
    "Based on the request, you carry out necessary research and respond with your findings.\n",
    "Take time to make multiple searches to get a comprehensive overview, and then summarize your findings.\n",
    "If there isn't a specific request, then just respond with investment opportunities based on searching latest news.\n",
    "The current datetime is {datetime.now().strftime(\"%Y-%m-%d %H:%M:%S\")}\n",
    "\"\"\"\n",
    "    researcher = Agent(\n",
    "        name=\"Researcher\",\n",
    "        instructions=instructions,\n",
    "        model=\"gpt-4.1-mini\",\n",
    "        mcp_servers=mcp_servers,\n",
    "    )\n",
    "    return researcher"
   ]
  },
  {
   "cell_type": "markdown",
   "metadata": {},
   "source": [
    "## 🤖🔧 Why are we converting the Researcher agent into a tool in this cell?\n",
    "\n",
    "In this cell, we are preparing to wrap the Researcher agent as a tool so that it can be easily used by other agents or workflows. By converting the agent into a tool, we make it accessible through a standardized interface, allowing it to be called programmatically as part of a larger agentic system.\n",
    "\n",
    "### ✨ **Analyzing the next cell:**  \n",
    "The next cell (`get_researcher_tool`) actually performs this conversion: it asynchronously creates the Researcher agent and then exposes it as a tool using the `.as_tool()` method. This is important because, in subsequent code, other agents (like a Trader agent) or orchestrators can invoke the Researcher as a tool to perform research tasks on demand, rather than interacting with it directly as a standalone agent.\n",
    "\n",
    "🧩 In summary, converting the Researcher agent into a tool in this cell sets up a modular, reusable component that can be integrated into more complex agent workflows, as demonstrated in the next cell.\n",
    "\n"
   ]
  },
  {
   "cell_type": "code",
   "execution_count": 7,
   "metadata": {},
   "outputs": [],
   "source": [
    "async def get_researcher_tool(mcp_servers) -> Tool:\n",
    "    researcher = await get_researcher(mcp_servers)\n",
    "    return researcher.as_tool(\n",
    "            tool_name=\"Researcher\",\n",
    "            tool_description=\"This tool researches online for news and opportunities, \\\n",
    "                either based on your specific request to look into a certain stock, \\\n",
    "                or generally for notable financial news and opportunities. \\\n",
    "                Describe what kind of research you're looking for.\"\n",
    "        )"
   ]
  },
  {
   "cell_type": "markdown",
   "metadata": {},
   "source": [
    "## 🧪 Directly Testing the Researcher Agent\n",
    "\n",
    "Before wrapping the Researcher agent as a tool, let's first call it directly to ensure it works as expected.\n",
    "\n",
    "We'll ask the following research question:\n",
    "\n",
    "> **What's the latest news on Amazon?**"
   ]
  },
  {
   "cell_type": "code",
   "execution_count": 8,
   "metadata": {},
   "outputs": [
    {
     "data": {
      "text/markdown": [
       "The latest news on Amazon focuses heavily on their upcoming Prime Day 2025 event. Here are the key points:\n",
       "\n",
       "- Prime Day 2025 is scheduled for July 8-11, extending to four days instead of the usual two.\n",
       "- Prime Day will feature exclusive daily deals from top brands like Samsung, Kiehl's, and Levi's.\n",
       "- This event will be available in 26 countries, including Ireland and Colombia for the first time.\n",
       "- Prime members can enjoy deep discounts across more than 35 categories.\n",
       "- Amazon is promoting ways to support U.S. small businesses during Prime Day.\n",
       "- Early deals include promotions such as 3 free months of Kindle Unlimited for book lovers.\n",
       "- The deals will run through to Friday, July 11, 11:59 p.m.\n",
       "\n",
       "If you want, I can also provide a summary of notable stock market or business performance news related to Amazon beyond Prime Day updates. Would you like me to do that?"
      ],
      "text/plain": [
       "<IPython.core.display.Markdown object>"
      ]
     },
     "metadata": {},
     "output_type": "display_data"
    }
   ],
   "source": [
    "# Define the research question that will be sent to the Researcher agent.\n",
    "research_question = \"What's the latest news on Amazon?\"\n",
    "\n",
    "# Iterate over each MCP server instance in the list of researcher MCP servers.\n",
    "for server in researcher_mcp_servers:\n",
    "    # Asynchronously establish a connection to the MCP server.\n",
    "    await server.connect()\n",
    "\n",
    "# Asynchronously create or retrieve a Researcher agent instance, passing in the connected MCP servers.\n",
    "researcher = await get_researcher(researcher_mcp_servers)\n",
    "\n",
    "# Use a tracing context (for debugging or logging) labeled \"Researcher\" to monitor the following block.\n",
    "with trace(\"Researcher\"):\n",
    "    # Asynchronously run the Researcher agent with the research question, allowing up to 30 conversational turns.\n",
    "    result = await Runner.run(researcher, research_question, max_turns=30)\n",
    "display(Markdown(result.final_output))\n",
    "\n"
   ]
  },
  {
   "cell_type": "markdown",
   "metadata": {},
   "source": [
    "### Look at the trace\n",
    "\n",
    "https://platform.openai.com/traces"
   ]
  },
  {
   "cell_type": "markdown",
   "metadata": {},
   "source": [
    "## 🌟 Setting Up Trader Strategies\n",
    "\n",
    "- 📝 **Assigning a Strategy:**  \n",
    "  Each trader is initialized with a specific investment strategy, which is stored in their account.\n",
    "\n",
    "- 🔄 **Why Store the Strategy?**  \n",
    "  Storing the strategy allows traders to **change or evolve** their approach over time, giving them flexibility and autonomy.\n",
    "\n",
    "- 🧑‍💼 **Unique Starting Point:**  \n",
    "  Every trader begins with a unique strategy to guide their initial decisions.\n",
    "\n",
    "- 🕹️ **Trader Autonomy:**  \n",
    "  Traders have the freedom to **adapt or update** their strategy as they see fit, empowering them to respond to market changes and personal insights."
   ]
  },
  {
   "cell_type": "code",
   "execution_count": 9,
   "metadata": {},
   "outputs": [
    {
     "data": {
      "text/markdown": [
       "{\"name\": \"ed\", \"balance\": 10000.0, \"strategy\": \"You are a day trader that aggressively buys and sells shares based on news and market conditions.\", \"holdings\": {}, \"transactions\": [], \"portfolio_value_time_series\": [[\"2025-07-11 00:32:38\", 10000.0]], \"total_portfolio_value\": 10000.0, \"total_profit_loss\": 0.0}"
      ],
      "text/plain": [
       "<IPython.core.display.Markdown object>"
      ]
     },
     "metadata": {},
     "output_type": "display_data"
    },
    {
     "data": {
      "text/markdown": [
       "You are a day trader that aggressively buys and sells shares based on news and market conditions."
      ],
      "text/plain": [
       "<IPython.core.display.Markdown object>"
      ]
     },
     "metadata": {},
     "output_type": "display_data"
    }
   ],
   "source": [
    "ed_initial_strategy = \"You are a day trader that aggressively buys and sells shares based on news and market conditions.\"\n",
    "Account.get(\"Ed\").reset(ed_initial_strategy)\n",
    "\n",
    "display(Markdown(await read_accounts_resource(\"Ed\")))\n",
    "display(Markdown(await read_strategy_resource(\"Ed\")))"
   ]
  },
  {
   "cell_type": "markdown",
   "metadata": {},
   "source": [
    "### And now - to create our Trader Agent"
   ]
  },
  {
   "cell_type": "markdown",
   "metadata": {},
   "source": [
    "## 📦 **What Does \"Reading a Resource\" Mean in MCP?**\n",
    "\n",
    "When you see us \"reading a resource\" here, we're actually:\n",
    "\n",
    "1. 🧑‍💻 **Calling Our MCP Client:**  \n",
    "- This is the client we built earlier!  \n",
    "- It acts as a bridge between our code and the MCP server.\n",
    "\n",
    "2. 🛰️ **MCP Client Talks to the MCP Server:**  \n",
    "- The client sends a request to the server for a specific resource (like account details or strategy).\n",
    "\n",
    "3. 🏢 **Server Runs Business Logic:**  \n",
    "- The MCP server receives the request and executes the business logic to fetch or compute the resource.\n",
    "- For example, it might look up an account, generate a report, or retrieve a strategy.\n",
    "\n",
    "4. 📄 **Resource = Useful Text Data:**  \n",
    "- The server returns the resource as text (e.g., account info, strategy description).\n",
    "- This text is then available for us to use in our agent's prompt.\n",
    "\n",
    "---\n",
    "\n",
    "✨ **Why Use MCP Resources?**\n",
    "\n",
    "- 🛠️ **Beyond Tools:**  \n",
    "MCP isn't just for calling tools (functions); it also lets you fetch resources (structured or unstructured data).\n",
    "\n",
    "- 🧠 **Context for Agents:**  \n",
    "By reading resources, we can inject up-to-date, relevant information directly into our agent's prompt, giving it the context it needs to make smart decisions.\n",
    "\n",
    "- 📝 **How Do We Use Them?**  \n",
    "We simply add the resource text to the system prompt for our agent.  \n",
    "This way, the agent \"knows\" about the latest account status, strategy, or any other info we provide.\n",
    "\n",
    "---\n",
    "\n",
    "🚀 **In Practice:**  \n",
    "- Here, we call two MCP resources: one for account details and one for the trader's strategy.\n",
    "- We then combine these into our system prompt, empowering the agent to act with full context!"
   ]
  },
  {
   "cell_type": "code",
   "execution_count": null,
   "metadata": {},
   "outputs": [],
   "source": [
    "agent_name = \"Ed\"\n",
    "\n",
    "# Using MCP Servers to read resources\n",
    "account_details = await read_accounts_resource(agent_name) # Explain how it is calling MCP client -> then it calls the mcp server and it provides the resource by calling businnes logic\n",
    "strategy = await read_strategy_resource(agent_name)\n",
    "\n",
    "instructions = f\"\"\"\n",
    "You are a trader that manages a portfolio of shares. Your name is {agent_name} and your account is under your name, {agent_name}.\n",
    "You have access to tools that allow you to search the internet for company news, check stock prices, and buy and sell shares.\n",
    "Your investment strategy for your portfolio is:\n",
    "{strategy}\n",
    "Your current holdings and balance is:\n",
    "{account_details}\n",
    "You have the tools to perform a websearch for relevant news and information.\n",
    "You have tools to check stock prices.\n",
    "You have tools to buy and sell shares.\n",
    "You have tools to save memory of companies, research and thinking so far.\n",
    "Please make use of these tools to manage your portfolio. Carry out trades as you see fit; do not wait for instructions or ask for confirmation.\n",
    "\"\"\"\n",
    "\n",
    "prompt = \"\"\"\n",
    "Use your tools to make decisions about your portfolio.\n",
    "Investigate the news and the market, make your decision, make the trades, and respond with a summary of your actions.\n",
    "\"\"\""
   ]
  },
  {
   "cell_type": "code",
   "execution_count": 11,
   "metadata": {},
   "outputs": [
    {
     "name": "stdout",
     "output_type": "stream",
     "text": [
      "\n",
      "You are a trader that manages a portfolio of shares. Your name is Ed and your account is under your name, Ed.\n",
      "You have access to tools that allow you to search the internet for company news, check stock prices, and buy and sell shares.\n",
      "Your investment strategy for your portfolio is:\n",
      "You are a day trader that aggressively buys and sells shares based on news and market conditions.\n",
      "Your current holdings and balance is:\n",
      "{\"name\": \"ed\", \"balance\": 10000.0, \"strategy\": \"You are a day trader that aggressively buys and sells shares based on news and market conditions.\", \"holdings\": {}, \"transactions\": [], \"portfolio_value_time_series\": [[\"2025-07-11 00:32:38\", 10000.0], [\"2025-07-11 00:37:11\", 10000.0]], \"total_portfolio_value\": 10000.0, \"total_profit_loss\": 0.0}\n",
      "You have the tools to perform a websearch for relevant news and information.\n",
      "You have tools to check stock prices.\n",
      "You have tools to buy and sell shares.\n",
      "You have tools to save memory of companies, research and thinking so far.\n",
      "Please make use of these tools to manage your portfolio. Carry out trades as you see fit; do not wait for instructions or ask for confirmation.\n",
      "\n"
     ]
    }
   ],
   "source": [
    "print(instructions)"
   ]
  },
  {
   "cell_type": "markdown",
   "metadata": {},
   "source": [
    "### And to run our Trader"
   ]
  },
  {
   "cell_type": "code",
   "execution_count": 12,
   "metadata": {},
   "outputs": [
    {
     "data": {
      "text/markdown": [
       "### Summary of Actions Taken:\n",
       "\n",
       "1. **Market Research**:\n",
       "   - Investigated current financial news, revealing significant movements in various sectors.\n",
       "   - **Key Highlights**:\n",
       "     - **MP Materials Corp. (MP)** jumped over 50% due to a Pentagon investment.\n",
       "     - Other gainers included **Newegg (NEGG)**, **Hertz (HTZ)**, **Delta Air Lines (DAL)**, and several others in the tech and travel sectors.\n",
       "\n",
       "2. **Stock Price Checks**:\n",
       "   - Prices were obtained for the top gainers, leading to investment decisions based on both recent performance and market sentiment.\n",
       "\n",
       "3. **Trades Executed**:\n",
       "   - Purchased the following shares:\n",
       "     - **MP Materials Corp. (MP)**: 100 shares at $30.09.\n",
       "     - **Newegg Commerce (NEGG)**: 50 shares at $21.76.\n",
       "     - **Hertz Global Holdings (HTZ)**: 75 shares at $7.14.\n",
       "\n",
       "### Current Portfolio Overview:\n",
       "- **Holdings**:\n",
       "  - **MP**: 100 shares\n",
       "  - **NEGG**: 50 shares\n",
       "  - **HTZ**: 75 shares\n",
       "\n",
       "- **Balance**: $5,367.00\n",
       "- **Total Portfolio Value**: $9,990.75\n",
       "- **Total Profit/Loss**: -$9.25 (reflecting current market prices)\n",
       "\n",
       "### Rationale for Trades:\n",
       "- **MP** was purchased due to the strategic Pentagon investment.\n",
       "- **NEGG** was acquired on positive trends in the tech sector.\n",
       "- **HTZ** was selected based on recovery signals in the travel industry.\n",
       "\n",
       "Next Steps:\n",
       "- Continue monitoring these holdings closely for any further news or market actions that may warrant additional trades."
      ],
      "text/plain": [
       "<IPython.core.display.Markdown object>"
      ]
     },
     "metadata": {},
     "output_type": "display_data"
    }
   ],
   "source": [
    "for server in mcp_servers:\n",
    "    await server.connect()\n",
    "\n",
    "researcher_tool = await get_researcher_tool(researcher_mcp_servers)\n",
    "trader = Agent(\n",
    "    name=agent_name,\n",
    "    instructions=instructions,\n",
    "    tools=[researcher_tool],\n",
    "    mcp_servers=trader_mcp_servers,\n",
    "    model=\"gpt-4o-mini\",\n",
    ")\n",
    "with trace(agent_name):\n",
    "    result = await Runner.run(trader, prompt, max_turns=30)\n",
    "display(Markdown(result.final_output))"
   ]
  },
  {
   "cell_type": "markdown",
   "metadata": {},
   "source": [
    "### Then go and look at the trace\n",
    "\n",
    "http://platform.openai.com/traces\n"
   ]
  },
  {
   "cell_type": "code",
   "execution_count": 13,
   "metadata": {},
   "outputs": [
    {
     "data": {
      "text/plain": [
       "'{\"name\": \"ed\", \"balance\": 5367.0025000000005, \"strategy\": \"You are a day trader that aggressively buys and sells shares based on news and market conditions.\", \"holdings\": {\"MP\": 100, \"NEGG\": 50, \"HTZ\": 75}, \"transactions\": [{\"symbol\": \"MP\", \"quantity\": 100, \"price\": 30.09006, \"timestamp\": \"2025-07-11 00:41:20\", \"rationale\": \"Strong surge due to Pentagon investment, momentum in rare earth minerals.\"}, {\"symbol\": \"NEGG\", \"quantity\": 50, \"price\": 21.76344, \"timestamp\": \"2025-07-11 00:41:20\", \"rationale\": \"Notable gains in tech and commerce sector, bullish trend.\"}, {\"symbol\": \"HTZ\", \"quantity\": 75, \"price\": 7.14426, \"timestamp\": \"2025-07-11 00:41:20\", \"rationale\": \"Strong gain in travel sector, benefiting from post-COVID recovery.\"}], \"portfolio_value_time_series\": [[\"2025-07-11 00:32:38\", 10000.0], [\"2025-07-11 00:37:11\", 10000.0], [\"2025-07-11 00:41:20\", 9993.993999999999], [\"2025-07-11 00:41:20\", 9991.822], [\"2025-07-11 00:41:20\", 9990.7525], [\"2025-07-11 00:47:21\", 9990.7525]], \"total_portfolio_value\": 9990.7525, \"total_profit_loss\": -9.2475000000004}'"
      ]
     },
     "execution_count": 13,
     "metadata": {},
     "output_type": "execute_result"
    }
   ],
   "source": [
    "# And let's look at the results of the trading\n",
    "\n",
    "await read_accounts_resource(agent_name)"
   ]
  },
  {
   "cell_type": "markdown",
   "metadata": {},
   "source": [
    "### Now it's time to review the Python module made from this:\n",
    "\n",
    "`mcp_params.py` is where the MCP servers are specified. You'll notice I've brought in some familiar friends: memory and push notifications!\n",
    "\n",
    "`templates.py` is where the instructions and messages are set up (i.e. the System prompts and User prompts)\n",
    "\n",
    "`traders.py` brings it all together.\n",
    "\n",
    "You'll notice I've done something a bit fancy with code like this:\n",
    "\n",
    "```\n",
    "async with AsyncExitStack() as stack:\n",
    "    mcp_servers = [await stack.enter_async_context(MCPServerStdio(params)) for params in mcp_server_params]\n",
    "```\n",
    "\n",
    "This is just a tidy way to combine our \"with\" statements (known as context managers) so that we don't need to do something ugly like this:\n",
    "\n",
    "```\n",
    "async with MCPServerStdio(params=params1) as mcp_server1:\n",
    "    async with MCPServerStdio(params=params2) as mcp_server2:\n",
    "        async with MCPServerStdio(params=params3) as mcp_server3:\n",
    "            mcp_servers = [mcp_server1, mcp_server2, mcp_server3]\n",
    "```\n",
    "\n",
    "But it's equivalent.\n"
   ]
  },
  {
   "cell_type": "code",
   "execution_count": null,
   "metadata": {},
   "outputs": [],
   "source": [
    "from traders import Trader"
   ]
  },
  {
   "cell_type": "code",
   "execution_count": 3,
   "metadata": {},
   "outputs": [],
   "source": [
    "trader = Trader(\"Ed\")"
   ]
  },
  {
   "cell_type": "code",
   "execution_count": null,
   "metadata": {},
   "outputs": [],
   "source": [
    "await trader.run()"
   ]
  },
  {
   "cell_type": "code",
   "execution_count": null,
   "metadata": {},
   "outputs": [],
   "source": [
    "await read_accounts_resource(\"Ed\")"
   ]
  },
  {
   "cell_type": "markdown",
   "metadata": {},
   "source": [
    "### Now look at the trace\n",
    "\n",
    "https://platform.openai.com/traces\n",
    "\n",
    "### How many tools did we use in total?"
   ]
  },
  {
   "cell_type": "code",
   "execution_count": null,
   "metadata": {},
   "outputs": [],
   "source": [
    "from mcp_params import trader_mcp_server_params, researcher_mcp_server_params\n",
    "\n",
    "all_params = trader_mcp_server_params + researcher_mcp_server_params(\"ed\")\n",
    "\n",
    "count = 0\n",
    "for each_params in all_params:\n",
    "    async with MCPServerStdio(params=each_params, client_session_timeout_seconds=60) as server:\n",
    "        mcp_tools = await server.list_tools()\n",
    "        count += len(mcp_tools)\n",
    "print(f\"We have {len(all_params)} MCP servers, and {count} tools\")"
   ]
  }
 ],
 "metadata": {
  "kernelspec": {
   "display_name": ".venv",
   "language": "python",
   "name": "python3"
  },
  "language_info": {
   "codemirror_mode": {
    "name": "ipython",
    "version": 3
   },
   "file_extension": ".py",
   "mimetype": "text/x-python",
   "name": "python",
   "nbconvert_exporter": "python",
   "pygments_lexer": "ipython3",
   "version": "3.12.4"
  }
 },
 "nbformat": 4,
 "nbformat_minor": 2
}
